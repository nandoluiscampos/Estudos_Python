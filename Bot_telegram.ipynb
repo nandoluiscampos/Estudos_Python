{
 "cells": [
  {
   "cell_type": "code",
   "execution_count": 21,
   "id": "84b9c0d4",
   "metadata": {},
   "outputs": [],
   "source": [
    "import requests "
   ]
  },
  {
   "cell_type": "code",
   "execution_count": 22,
   "id": "0a923396",
   "metadata": {},
   "outputs": [],
   "source": [
    "\n",
    "# mostra o id do último grupo adicionado\n",
    "def last_chat_id(token):\n",
    "    try:\n",
    "        url = \"https://api.telegram.org/bot{}/getUpdates\".format(token)\n",
    "        response = requests.get(url)\n",
    "        if response.status_code == 200:\n",
    "            json_msg = response.json()\n",
    "            for json_result in reversed(json_msg['result']):\n",
    "                message_keys = json_result['message'].keys()\n",
    "                if ('new_chat_member' in message_keys) or ('group_chat_created' in message_keys):\n",
    "                    return json_result['message']['chat']['id']\n",
    "            print('Nenhum grupo encontrado')\n",
    "        else:\n",
    "            print('A resposta falhou, código de status: {}'.format(response.status_code))\n",
    "    except Exception as e:\n",
    "        print(\"Erro no getUpdates:\", e)\n",
    "\n",
    "# enviar mensagens utilizando o bot para um chat específico\n",
    "def send_message(token, chat_id, message):\n",
    "    try:\n",
    "        data = {\"chat_id\": chat_id, \"text\": msg}\n",
    "        url = \"https://api.telegram.org/bot{}/sendMessage\".format(token)\n",
    "        requests.post(url, data)\n",
    "    except Exception as e:\n",
    "        print(\"Erro no sendMessage:\", e)"
   ]
  },
  {
   "cell_type": "code",
   "execution_count": 23,
   "id": "e53959b2",
   "metadata": {},
   "outputs": [
    {
     "name": "stdout",
     "output_type": "stream",
     "text": [
      "Id do chat: -512712850\n"
     ]
    }
   ],
   "source": [
    "# token único utilizado para manipular o bot (não deve ser compartilhado)\n",
    "# exemplo: '1413778757:AAFxmr611LssAHbZn1uqV_NKFsbwK3TT-wc'\n",
    "token = '1942912563:AAHabBKdjmX07FHkHScn_H508hByMCJtH4w'\n",
    "# id do chat que será enviado as mensagens\n",
    "chat_id = last_chat_id(token)\n",
    "\n",
    "print(\"Id do chat:\", chat_id)"
   ]
  },
  {
   "cell_type": "code",
   "execution_count": 24,
   "id": "3f667481",
   "metadata": {},
   "outputs": [],
   "source": [
    "# exemplo de mensagem\n",
    "msg = \"Resultados dos experimentos: 97%\"\n",
    "\n",
    "# enviar a mensagem\n",
    "send_message(token, chat_id, msg)"
   ]
  },
  {
   "cell_type": "code",
   "execution_count": null,
   "id": "99b18900",
   "metadata": {},
   "outputs": [],
   "source": []
  },
  {
   "cell_type": "code",
   "execution_count": null,
   "id": "332a5565",
   "metadata": {},
   "outputs": [],
   "source": []
  }
 ],
 "metadata": {
  "kernelspec": {
   "display_name": "Python 3",
   "language": "python",
   "name": "python3"
  },
  "language_info": {
   "codemirror_mode": {
    "name": "ipython",
    "version": 3
   },
   "file_extension": ".py",
   "mimetype": "text/x-python",
   "name": "python",
   "nbconvert_exporter": "python",
   "pygments_lexer": "ipython3",
   "version": "3.8.8"
  }
 },
 "nbformat": 4,
 "nbformat_minor": 5
}
